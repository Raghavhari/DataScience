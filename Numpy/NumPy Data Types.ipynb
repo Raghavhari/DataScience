{
 "cells": [
  {
   "cell_type": "code",
   "execution_count": 1,
   "id": "7e42f375",
   "metadata": {},
   "outputs": [],
   "source": [
    "import numpy as np"
   ]
  },
  {
   "cell_type": "code",
   "execution_count": 2,
   "id": "ac9ea774",
   "metadata": {},
   "outputs": [
    {
     "data": {
      "text/plain": [
       "'\\n---Data Types in Numpy---\\n\\nInteger = i\\nUnsigned Integer = u\\nBoolean = b\\nFloat = f\\nString = S \\nUnicode String = U\\nTimedelta = m\\nDatetime = M\\nObject = O\\nVoid = V\\n\\n'"
      ]
     },
     "execution_count": 2,
     "metadata": {},
     "output_type": "execute_result"
    }
   ],
   "source": [
    "\"\"\"\n",
    "---Data Types in Numpy---\n",
    "\n",
    "Integer = i\n",
    "Unsigned Integer = u\n",
    "Boolean = b\n",
    "Float = f\n",
    "String = S \n",
    "Unicode String = U\n",
    "Timedelta = m\n",
    "Datetime = M\n",
    "Object = O\n",
    "Void = V\n",
    "\n",
    "\"\"\""
   ]
  },
  {
   "cell_type": "code",
   "execution_count": 3,
   "id": "a560bba5",
   "metadata": {},
   "outputs": [
    {
     "name": "stdout",
     "output_type": "stream",
     "text": [
      "int32\n"
     ]
    }
   ],
   "source": [
    "arr = np.array([1,2,3,4,5,6])#Checking the datatype of the array\n",
    "print(arr.dtype)"
   ]
  },
  {
   "cell_type": "code",
   "execution_count": 4,
   "id": "c10963b7",
   "metadata": {},
   "outputs": [
    {
     "name": "stdout",
     "output_type": "stream",
     "text": [
      "<U6\n"
     ]
    }
   ],
   "source": [
    "arr2 = np.array(['Harish', 'Raghav'])\n",
    "print(arr2.dtype)"
   ]
  },
  {
   "cell_type": "code",
   "execution_count": null,
   "id": "02bc63ec",
   "metadata": {},
   "outputs": [],
   "source": []
  }
 ],
 "metadata": {
  "kernelspec": {
   "display_name": "Python 3 (ipykernel)",
   "language": "python",
   "name": "python3"
  },
  "language_info": {
   "codemirror_mode": {
    "name": "ipython",
    "version": 3
   },
   "file_extension": ".py",
   "mimetype": "text/x-python",
   "name": "python",
   "nbconvert_exporter": "python",
   "pygments_lexer": "ipython3",
   "version": "3.9.13"
  }
 },
 "nbformat": 4,
 "nbformat_minor": 5
}
