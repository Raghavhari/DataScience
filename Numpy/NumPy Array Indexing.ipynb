{
 "cells": [
  {
   "cell_type": "code",
   "execution_count": 1,
   "id": "843cf4ba",
   "metadata": {},
   "outputs": [],
   "source": [
    "import numpy as np"
   ]
  },
  {
   "cell_type": "code",
   "execution_count": 3,
   "id": "5ee4785c",
   "metadata": {},
   "outputs": [
    {
     "name": "stdout",
     "output_type": "stream",
     "text": [
      "1\n",
      "5\n"
     ]
    }
   ],
   "source": [
    "arr = np.array([1,2,3,4,5])#Accessing array elements\n",
    "print(arr[0])\n",
    "print(arr[1] + arr[2])"
   ]
  },
  {
   "cell_type": "code",
   "execution_count": 8,
   "id": "cfadc775",
   "metadata": {},
   "outputs": [
    {
     "name": "stdout",
     "output_type": "stream",
     "text": [
      "2\n",
      "6\n"
     ]
    }
   ],
   "source": [
    "arr2 =np.array([[1,2,3],[4,5,6]])#Accessing 2-D array elements\n",
    "print(arr2[0,1])\n",
    "print(arr2[1,2])"
   ]
  },
  {
   "cell_type": "code",
   "execution_count": 11,
   "id": "c788c8b5",
   "metadata": {},
   "outputs": [
    {
     "name": "stdout",
     "output_type": "stream",
     "text": [
      "6\n",
      "2\n"
     ]
    }
   ],
   "source": [
    "arr2 = np.array([[[1,2,3],[4,5,6]],[[3,2,1],[6,5,4]]])#Accessing 2-D array elements\n",
    "print(arr2[0,1,2])\n",
    "print(arr2[1,0,1])"
   ]
  },
  {
   "cell_type": "code",
   "execution_count": 12,
   "id": "82e86c0a",
   "metadata": {},
   "outputs": [
    {
     "name": "stdout",
     "output_type": "stream",
     "text": [
      "5\n"
     ]
    }
   ],
   "source": [
    "arr3 = np.array([[1,2,3],[4,5,6]])#Negative Indexing\n",
    "print(arr3[1,-2])"
   ]
  }
 ],
 "metadata": {
  "kernelspec": {
   "display_name": "Python 3 (ipykernel)",
   "language": "python",
   "name": "python3"
  },
  "language_info": {
   "codemirror_mode": {
    "name": "ipython",
    "version": 3
   },
   "file_extension": ".py",
   "mimetype": "text/x-python",
   "name": "python",
   "nbconvert_exporter": "python",
   "pygments_lexer": "ipython3",
   "version": "3.9.13"
  }
 },
 "nbformat": 4,
 "nbformat_minor": 5
}
